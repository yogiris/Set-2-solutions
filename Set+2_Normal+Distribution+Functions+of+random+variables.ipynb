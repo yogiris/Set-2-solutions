{
 "cells": [
  {
   "cell_type": "code",
   "execution_count": 1,
   "id": "555453b1",
   "metadata": {},
   "outputs": [],
   "source": [
    "import numpy as np\n",
    "from scipy import stats"
   ]
  },
  {
   "cell_type": "code",
   "execution_count": 7,
   "id": "60d2af62",
   "metadata": {},
   "outputs": [
    {
     "data": {
      "text/plain": [
       "1.0"
      ]
     },
     "execution_count": 7,
     "metadata": {},
     "output_type": "execute_result"
    }
   ],
   "source": [
    "'Normal dirtribution question 2 A'\n",
    "z=(44-38)/6\n",
    "z"
   ]
  },
  {
   "cell_type": "code",
   "execution_count": 21,
   "id": "cd0e9e9b",
   "metadata": {},
   "outputs": [
    {
     "data": {
      "text/plain": [
       "15.865525393145708"
      ]
     },
     "execution_count": 21,
     "metadata": {},
     "output_type": "execute_result"
    }
   ],
   "source": [
    "Pof44=1-(stats.norm.cdf(z))\n",
    "Pof44*100"
   ]
  },
  {
   "cell_type": "code",
   "execution_count": 10,
   "id": "c6139a44",
   "metadata": {},
   "outputs": [
    {
     "data": {
      "text/plain": [
       "0.0"
      ]
     },
     "execution_count": 10,
     "metadata": {},
     "output_type": "execute_result"
    }
   ],
   "source": [
    "z38 = (38-38)/6\n",
    "z38"
   ]
  },
  {
   "cell_type": "code",
   "execution_count": 22,
   "id": "7b22dec0",
   "metadata": {},
   "outputs": [
    {
     "data": {
      "text/plain": [
       "65.8655253931457"
      ]
     },
     "execution_count": 22,
     "metadata": {},
     "output_type": "execute_result"
    }
   ],
   "source": [
    "Pof38to44=1-(stats.norm.cdf(z)-stats.norm.cdf(z38))\n",
    "Pof38to44*100"
   ]
  },
  {
   "cell_type": "code",
   "execution_count": 23,
   "id": "fa4639f5",
   "metadata": {},
   "outputs": [
    {
     "data": {
      "text/plain": [
       "True"
      ]
     },
     "execution_count": 23,
     "metadata": {},
     "output_type": "execute_result"
    }
   ],
   "source": [
    "Pof38to44 > Pof44"
   ]
  },
  {
   "cell_type": "code",
   "execution_count": 24,
   "id": "4ebc5366",
   "metadata": {},
   "outputs": [
    {
     "data": {
      "text/plain": [
       "-1.3333333333333333"
      ]
     },
     "execution_count": 24,
     "metadata": {},
     "output_type": "execute_result"
    }
   ],
   "source": [
    "'Normal dirtribution question 2 B'\n",
    "z30=(30-38)/6\n",
    "z30"
   ]
  },
  {
   "cell_type": "code",
   "execution_count": 30,
   "id": "41a02e66",
   "metadata": {},
   "outputs": [
    {
     "data": {
      "text/plain": [
       "0.09121121972586788"
      ]
     },
     "execution_count": 30,
     "metadata": {},
     "output_type": "execute_result"
    }
   ],
   "source": [
    "P30=stats.norm.cdf(z30)\n",
    "P30"
   ]
  },
  {
   "cell_type": "code",
   "execution_count": 31,
   "id": "d736e3b0",
   "metadata": {},
   "outputs": [
    {
     "data": {
      "text/plain": [
       "36.484487890347154"
      ]
     },
     "execution_count": 31,
     "metadata": {},
     "output_type": "execute_result"
    }
   ],
   "source": [
    "400*P30"
   ]
  },
  {
   "cell_type": "code",
   "execution_count": 32,
   "id": "1344bf78",
   "metadata": {},
   "outputs": [
    {
     "data": {
      "text/plain": [
       "-2.575"
      ]
     },
     "execution_count": 32,
     "metadata": {},
     "output_type": "execute_result"
    }
   ],
   "source": [
    "'Normal dirtribution question 4'\n",
    "z1=(48.5-100)/20Normal dirtribution question 4\n",
    "z1"
   ]
  },
  {
   "cell_type": "code",
   "execution_count": 33,
   "id": "85faa251",
   "metadata": {},
   "outputs": [
    {
     "data": {
      "text/plain": [
       "0.005012004331761333"
      ]
     },
     "execution_count": 33,
     "metadata": {},
     "output_type": "execute_result"
    }
   ],
   "source": [
    "p1=stats.norm.cdf(z1)\n",
    "p1"
   ]
  },
  {
   "cell_type": "code",
   "execution_count": 34,
   "id": "bded1f6f",
   "metadata": {},
   "outputs": [
    {
     "data": {
      "text/plain": [
       "2.575"
      ]
     },
     "execution_count": 34,
     "metadata": {},
     "output_type": "execute_result"
    }
   ],
   "source": [
    "z2=(151.5-100)/20\n",
    "z2"
   ]
  },
  {
   "cell_type": "code",
   "execution_count": 36,
   "id": "17efb471",
   "metadata": {},
   "outputs": [
    {
     "data": {
      "text/plain": [
       "0.9949879956682387"
      ]
     },
     "execution_count": 36,
     "metadata": {},
     "output_type": "execute_result"
    }
   ],
   "source": [
    "p2=stats.norm.cdf(z2)\n",
    "p2"
   ]
  },
  {
   "cell_type": "code",
   "execution_count": 38,
   "id": "6bf9f710",
   "metadata": {},
   "outputs": [
    {
     "data": {
      "text/plain": [
       "0.99"
      ]
     },
     "execution_count": 38,
     "metadata": {},
     "output_type": "execute_result"
    }
   ],
   "source": [
    "round(p2-p1,2)"
   ]
  },
  {
   "cell_type": "code",
   "execution_count": null,
   "id": "2589a49a",
   "metadata": {},
   "outputs": [],
   "source": []
  },
  {
   "cell_type": "code",
   "execution_count": 40,
   "id": "43d62e99",
   "metadata": {},
   "outputs": [
    {
     "name": "stdout",
     "output_type": "stream",
     "text": [
      "540 Million Rs\n"
     ]
    }
   ],
   "source": [
    "'Normal dirtribution question 5 A'\n",
    "'profit1+profit2 in million $'\n",
    "Mean=5+7\n",
    "'profit in million rs'\n",
    "print(Mean*45, 'Million Rs')"
   ]
  },
  {
   "cell_type": "code",
   "execution_count": 46,
   "id": "eebbf5c0",
   "metadata": {},
   "outputs": [
    {
     "name": "stdout",
     "output_type": "stream",
     "text": [
      "225.0 Million Rs\n"
     ]
    }
   ],
   "source": [
    "'standard deviation'\n",
    "sd=np.sqrt(((3*3)+(4*4)))\n",
    "print(sd*45, 'Million Rs')"
   ]
  },
  {
   "cell_type": "code",
   "execution_count": 48,
   "id": "b69aa618",
   "metadata": {},
   "outputs": [
    {
     "name": "stdout",
     "output_type": "stream",
     "text": [
      "Range is between (99.00810347848784, 980.9918965215122) Million Rs\n"
     ]
    }
   ],
   "source": [
    "'95% range in the above interval'\n",
    "print('Range is between', stats.norm.interval(0.95, 540, 225), 'Million Rs')"
   ]
  },
  {
   "cell_type": "code",
   "execution_count": 53,
   "id": "77e046ff",
   "metadata": {},
   "outputs": [
    {
     "name": "stdout",
     "output_type": "stream",
     "text": [
      "170.0 Million Rs\n"
     ]
    }
   ],
   "source": [
    "'5th percentile from z table = -1.645. so 5th percentile profit'\n",
    "profit5th = 540+ (-1.645*225)\n",
    "print(np.round(profit5th,0), 'Million Rs')"
   ]
  },
  {
   "cell_type": "code",
   "execution_count": 56,
   "id": "a0b1062b",
   "metadata": {},
   "outputs": [
    {
     "data": {
      "text/plain": [
       "4.78"
      ]
     },
     "execution_count": 56,
     "metadata": {},
     "output_type": "execute_result"
    }
   ],
   "source": [
    "'Normal dirtribution question 5 C'\n",
    "'Division with higher loss probability'\n",
    "Pdiv1=100*(stats.norm.cdf(0,5,3))\n",
    "np.round(Pdiv1,2)"
   ]
  },
  {
   "cell_type": "code",
   "execution_count": 57,
   "id": "22ec0118",
   "metadata": {},
   "outputs": [
    {
     "data": {
      "text/plain": [
       "4.01"
      ]
     },
     "execution_count": 57,
     "metadata": {},
     "output_type": "execute_result"
    }
   ],
   "source": [
    "Pdiv2=100*(stats.norm.cdf(0,7,4))\n",
    "np.round(Pdiv2,2)"
   ]
  }
 ],
 "metadata": {
  "kernelspec": {
   "display_name": "Python 3 (ipykernel)",
   "language": "python",
   "name": "python3"
  },
  "language_info": {
   "codemirror_mode": {
    "name": "ipython",
    "version": 3
   },
   "file_extension": ".py",
   "mimetype": "text/x-python",
   "name": "python",
   "nbconvert_exporter": "python",
   "pygments_lexer": "ipython3",
   "version": "3.10.9"
  }
 },
 "nbformat": 4,
 "nbformat_minor": 5
}
